{
  "cells": [
    {
      "cell_type": "markdown",
      "metadata": {
        "id": "Kb_PVxXaW2Qy"
      },
      "source": [
        "# <a href=\"https://miptstats.github.io/courses/ad_fivt.html\">Введение в анализ данных</a>\n",
        "## Домашнее задание 4. Нейронные сети.\n"
      ]
    },
    {
      "cell_type": "markdown",
      "metadata": {
        "id": "duMi1QifW2Qz"
      },
      "source": [
        "**Правила, <font color=\"red\">прочитайте внимательно</font>:**\n",
        "\n",
        "* Выполненную работу нужно отправить телеграм-боту `@miptstats_ds24_bot`. Для начала работы с ботом каждый раз отправляйте `/start`. **Работы, присланные иным способом, не принимаются.**\n",
        "* Дедлайн см. в боте. После дедлайна работы не принимаются кроме случаев наличия уважительной причины.\n",
        "* Прислать нужно **ноутбук в формате `ipynb`**.\n",
        "* Следите за размером файлов. **Бот не может принимать файлы весом более 20 Мб.** Если файл получается больше, заранее разделите его на несколько.\n",
        "* Выполнять задание необходимо полностью самостоятельно. **При обнаружении списывания все участники списывания будут сдавать устный зачет.**\n",
        "* Решения, размещенные на каких-либо интернет-ресурсах, не принимаются. Кроме того, публикация решения в открытом доступе может быть приравнена к предоставлении возможности списать.\n",
        "* Для выполнения задания используйте этот ноутбук в качестве основы, ничего не удаляя из него. Можно добавлять необходимое количество ячеек.\n",
        "* Комментарии к решению пишите в markdown-ячейках.\n",
        "* Выполнение задания (ход решения, выводы и пр.) должно быть осуществлено на русском языке.\n",
        "* Если код будет не понятен проверяющему, оценка может быть снижена.\n",
        "* Никакой код из данного задания при проверке запускаться не будет. *Если код студента не выполнен, недописан и т.д., то он не оценивается.*\n",
        "\n",
        "**Правила оформления теоретических задач:**\n",
        "\n",
        "* Решения необходимо прислать одним из следующих способов:\n",
        "  * фотографией в правильной ориентации, где все четко видно, а почерк разборчив,\n",
        "    * отправив ее как файл боту вместе с ноутбуком *или*\n",
        "    * вставив ее в ноутбук посредством `Edit -> Insert Image`;\n",
        "  * в виде $LaTeX$ в markdown-ячейках.\n",
        "* Решения не проверяются, если какое-то требование не выполнено. Особенно внимательно все проверьте в случае выбора второго пункта (вставки фото в ноутбук). <font color=\"red\"><b>Неправильно вставленные фотографии могут не передаться при отправке.</b></font> Для проверки попробуйте переместить `ipynb` в другую папку и открыть его там.\n",
        "* В решениях поясняйте, чем вы пользуетесь, хотя бы кратко. Например, если пользуетесь независимостью, то достаточно подписи вида \"*X и Y незав.*\"\n",
        "* Решение, в котором есть только ответ, и отсутствуют вычисления, оценивается в 0 баллов.\n",
        "\n",
        "\n",
        "\n",
        "\n",
        "\n",
        "**Баллы за задание:**\n",
        "\n",
        "<b><font color=\"blue\">Легкая часть</font></b> (достаточно на \"хор\"):\n",
        "* Задача 1 &mdash; 60 баллов\n",
        "* Задача 2 &mdash; 30 баллов\n",
        "\n",
        "<b><font color=\"orange\">Сложная часть</font></b> (необходимо на \"отл\"):\n",
        "* Задача 3 &mdash; 60 баллов\n"
      ]
    },
    {
      "cell_type": "code",
      "execution_count": null,
      "metadata": {
        "id": "pWZ4wmCvW2Q0"
      },
      "outputs": [],
      "source": [
        "# Bot check\n",
        "\n",
        "# HW_ID: fpmi_ad4\n",
        "# Бот проверит этот ID и предупредит, если случайно сдать что-то не то.\n",
        "\n",
        "# Status: not final\n",
        "# Перед отправкой в финальном решении удали \"not\" в строчке выше.\n",
        "# Так бот проверит, что ты отправляешь финальную версию, а не промежуточную.\n",
        "# Никакие значения в этой ячейке не влияют на факт сдачи работы."
      ]
    },
    {
      "cell_type": "code",
      "execution_count": 1,
      "metadata": {
        "id": "ht9Xm0EucoAr"
      },
      "outputs": [],
      "source": [
        "import numpy as np\n",
        "import scipy.stats as sps\n",
        "import torch\n",
        "from torch import nn\n",
        "from sklearn.model_selection import train_test_split\n",
        "\n",
        "import matplotlib.pyplot as plt\n",
        "import seaborn as sns\n",
        "\n",
        "sns.set(font_scale=1.2, palette='Set2')\n",
        "%matplotlib inline"
      ]
    },
    {
      "cell_type": "markdown",
      "metadata": {
        "id": "2M__0kK2W2Q1"
      },
      "source": [
        "Перед выполнением задания обязательно посмотрите <a href=\"https://miptstats.github.io/courses/ad_fivt/lecture4.pdf\" target=\"_blank\">презентацию</a> и <a href=\"https://miptstats.github.io/courses/ad_fivt/nn_simple_examples.html\" target=\"_blank\">обучающий ноутбук</a> с занятия по нейронным сетям."
      ]
    },
    {
      "cell_type": "markdown",
      "metadata": {
        "id": "NtWewpfoLl5S"
      },
      "source": [
        "---\n",
        "### <font color=\"blue\"><i>Легкая часть</i></font>"
      ]
    },
    {
      "cell_type": "markdown",
      "metadata": {
        "id": "x-9Z1rmVW2Q1"
      },
      "source": [
        "---\n",
        "### Задача 1.\n",
        "\n",
        "Рассмотрим двухслойную нейронную сеть, которая принимает на вход $x\\in\\mathbb{R}$ и возвращает $y\\in\\mathbb{R}$. Выход первого слоя возвращает $u \\in\\mathbb{R}^2$. После первого слоя используется функция активации $\\sigma(x) = \\frac{1}{1 + \\exp(-x)}$, после второго слоя функция активации не используется (или используется тождественная). Тем самым нашу нейронную можно представить в виде\n",
        "\n",
        "$$\\widehat{y}(x) = \\sum_{h=1}^2 w_{2h}u_h(x) + b_2,$$\n",
        "\n",
        "$$u_h(x) = \\sigma(w_{1h}x + b_{1h}),$$\n",
        "\n",
        "$$\\text{где} \\; h \\in \\{1, 2\\}.$$\n",
        "\n"
      ]
    },
    {
      "cell_type": "markdown",
      "metadata": {
        "id": "4eii8MGZW2Q1"
      },
      "source": [
        "**1.** Нарисуйте схематически данную нейронную сеть. Сколько у нее обучаемых параметров?"
      ]
    },
    {
      "cell_type": "markdown",
      "metadata": {
        "id": "REawtgDJW2Q1"
      },
      "source": [
        "<img src='1.jpg' width=700>\n",
        "\n",
        "У сети 7 параметров."
      ]
    },
    {
      "cell_type": "markdown",
      "metadata": {
        "id": "b8DZXIx7W2Q2"
      },
      "source": [
        "**2.** Пусть нам дана обучающая выборка $(X_1, Y_1), ..., (X_n, Y_n)$, где $X_i \\in \\mathbb{R}$ и $Y_i \\in \\mathbb{R}$. Нейронная сеть обучается по этой выборке, минимизируя заданную функцию $L$ &mdash; функцию ошибки. Положим, что $L$ &mdash; это MSE:\n",
        "$$\\text{MSE} = L(X, Y) = \\frac{1}{n}\\sum_{i=1}^n \\big(Y_i - \\widehat{y}(X_i)\\big)^2.$$\n",
        "\n",
        "Наша задача &mdash; найти оптимальные параметры нашей модели для минимизации $L(X, Y)$ на заданном наборе данных. Мы будем решать эту задачу с помощью градиентного спуска. Для этого нам понадобится выписать производные по всем параметрам сети. Конечно, в данном случае довольно просто выписать все производные напрямую. Однако мы воспользуемся следующей хитростью: мы будем считать производные поэтапно, причем начнем с конца вычислительной цепочки и, используя формулу производной сложной функции, последовательно посчитаем все необходимые производные. Этот процесс называется методом **обратного распространения ошибки (backpropagation)**."
      ]
    },
    {
      "cell_type": "markdown",
      "metadata": {
        "id": "sns2ZZArW2Q2"
      },
      "source": [
        "**2.1.** Начнем с производной MSE по выходам сети\n",
        "$$\\frac{\\partial\\:\\text{MSE}}{\\partial \\widehat{y}(X_i)} = -\\frac{2}{n} (Y_i - \\^{y}(X_i))$$"
      ]
    },
    {
      "cell_type": "markdown",
      "metadata": {
        "id": "mN2TO-MAW2Q2"
      },
      "source": [
        "**2.2** Возьмем производные выходов сети по параметрам последнего слоя\n",
        "\n",
        "$$\\frac{\\partial \\widehat{y}(X_i)}{\\partial w_{2h}} = u_h(X_i)$$\n",
        "\n",
        "$$\\frac{\\partial \\widehat{y}(X_i)}{\\partial b_2} = 1$$\n",
        "\n",
        "Также выпишем производные выходов сети по входам последнего слоя\n",
        "\n",
        "$$\\frac{\\partial \\widehat{y}(X_i)}{\\partial u_h(X_i)} = w_{2h}$$\n",
        "\n",
        "Теперь выпишем производные MSE по параметрам и входам последнего слоя. Для этого вспомните правило производной сложной функции из математического анализа. Обратите внимание на то, что нам не нужно прописывать все производные до конца, достаточно заполнить пропуски в записи ниже:\n",
        "\n",
        "$$\\frac{\\partial\\:\\text{MSE}}{\\partial w_{2h}} = \\sum_{i=1}^n \\frac{\\partial\\:\\text{MSE}}{\\partial \\^{y}(X_i)} \\frac{\\partial \\^{y}(X_i)}{\\partial w_{2h}}$$\n",
        "\n",
        "$$\\frac{\\partial\\:\\text{MSE}}{\\partial b_2} = \\sum_{i=1}^n \\frac{\\partial\\:\\text{MSE}}{\\partial \\^{y}(X_i)} \\frac{\\partial \\^{y}(X_i)}{\\partial b_2}$$\n",
        "\n",
        "$$\\frac{\\partial\\:\\text{MSE}}{\\partial u_h} = \\sum_{i=1}^n \\frac{\\partial\\:\\text{MSE}}{\\partial \\^{y}(X_i)} \\frac{\\partial \\^{y}(X_i)}{\\partial u_h}$$"
      ]
    },
    {
      "cell_type": "markdown",
      "metadata": {
        "id": "u4_alAF5W2Q2"
      },
      "source": [
        "**2.2.** Теперь будем разбираться с производными по параметрам первого слоя.\n",
        "\n",
        "Для начала нам пригодится производная функции активации, запишите ее так, чтобы ответе осталась функция от $\\sigma(x)$\n",
        "\n",
        "$$\\frac{\\partial\\:\\sigma(x)}{\\partial x} = \\frac{e^{-x}}{(1 + e^{-x})^2} = \\sigma - \\sigma^2$$\n",
        "\n",
        "Теперь возьмем производные выходов первого слоя по его параметрам\n",
        "\n",
        "$$\\frac{\\partial u_h(X_i)}{\\partial w_{1h}} = (u_h(X_i) - u_h^2(X_i))X_i$$\n",
        "\n",
        "$$\\frac{\\partial u_h(X_i)}{\\partial b_{1h}} = u_h(X_i) - u_h^2(X_i)$$\n",
        "\n",
        "Наконец, выпишем производные MSE по параметрам первого слоя. Так же как и раньше достаточно заполнить пропуски в записи ниже\n",
        "\n",
        "$$\\frac{\\partial\\:\\text{MSE}}{\\partial w_{1h}} = \\; \\sum_{i=1}^n \\frac{\\partial\\:\\text{MSE}}{\\partial u_h(X_i)} \\frac{\\partial u_h(X_i)}{\\partial w_{1h}}$$\n",
        "\n",
        "$$\\frac{\\partial\\:\\text{MSE}}{\\partial b_{1h}} = \\; \\sum_{i=1}^n \\frac{\\partial\\:\\text{MSE}}{\\partial u_h(X_i)} \\frac{\\partial u_h(X_i)}{\\partial b_{1h}}$$"
      ]
    },
    {
      "cell_type": "markdown",
      "metadata": {
        "id": "T9TejlitW2Q2"
      },
      "source": [
        "**3.** Пусть обучающая выборка очень большая. Что нужно делать в таком случае? Запишите, как нужно поменять правило обновления параметров.\n",
        "\n",
        "- Чтобы ускорить вычисления, будем использовать стохастический градиентный спуск:\n",
        "\n",
        "$$ \\theta_{t + 1} = \\theta_t - \\eta \\nabla L_I (\\theta), \\qquad \\theta = (w, b), \\quad I = \\{i_1 ... i_k\\ \\in \\{1 ... n\\}\\} $$"
      ]
    },
    {
      "cell_type": "markdown",
      "metadata": {
        "id": "a_EvDaB7W2Q2"
      },
      "source": [
        "**Вывод:**\n",
        "- Градиенты можно выразить через друг друга, если идти от последних к первым"
      ]
    },
    {
      "cell_type": "markdown",
      "metadata": {
        "id": "hwaX8xRXW2Q3"
      },
      "source": [
        "---\n",
        "### Задача 2.\n",
        "\n",
        "Напишите нейронную сеть из задачи 1 с помощью библиотеки `pytorch`, используя Sequential-стиль. Перед выполнением задачи рекомендуется посмотреть <a href=\"https://miptstats.github.io/courses/ad_fivt/nn_simple_examples.html#3.-Готовые-модули-из-PyTorch\" target=\"_blank\">ноутбук</a> с занятия. Функция активации реализована как `torch.nn.Sigmoid`.\n",
        "\n",
        "*Внимание.* Для выполнения задачи потребуется установить библиотеку `pytorch`. Альтернативный вариант &mdash; выполнение в <a href=\"https://colab.research.google.com\" target=\"_blank\">Google Colab</a>. Учитывайте, что при длительном бездействии Colab может сам завершить работу ядра."
      ]
    },
    {
      "cell_type": "code",
      "execution_count": 2,
      "metadata": {
        "id": "R03tSHFoW2Q4"
      },
      "outputs": [],
      "source": [
        "model = nn.Sequential(\n",
        "    nn.Linear(in_features=1, out_features=2),\n",
        "    nn.Sigmoid(),\n",
        "    nn.Linear(in_features=2, out_features=1)\n",
        ")"
      ]
    },
    {
      "cell_type": "markdown",
      "metadata": {
        "id": "t1_H2ptPW2Q3"
      },
      "source": [
        "Сгенерируем данные. Возьмите какую-либо нелинейную функцию $y(x)$."
      ]
    },
    {
      "cell_type": "code",
      "execution_count": 3,
      "metadata": {
        "id": "nIB7KwUMW2Q3"
      },
      "outputs": [],
      "source": [
        "sample_size = int(1e6)\n",
        "X = sps.norm.rvs(size=(sample_size, 1), random_state=42)\n",
        "y = np.sin(X)\n",
        "\n",
        "X = torch.FloatTensor(X.reshape(-1, 1))\n",
        "y = torch.FloatTensor(y.reshape(-1, 1))\n",
        "\n",
        "X_train, X_test, y_train, y_test = train_test_split(X, y, test_size=0.4, random_state=42)\n",
        "\n",
        "# assert y.shape == (sample_size,)"
      ]
    },
    {
      "cell_type": "markdown",
      "metadata": {
        "id": "JLhEEGwOW2Q4"
      },
      "source": [
        "Обучите нейросеть на этих данных. Используйте код с занятия."
      ]
    },
    {
      "cell_type": "code",
      "execution_count": 4,
      "metadata": {},
      "outputs": [],
      "source": [
        "# Инициализируем параметры модели\n",
        "for p in model.parameters():\n",
        "    p.data = torch.FloatTensor([[1]])\n",
        "\n",
        "# Используем оптимизатор, реализующий стохастический градиентный спуск\n",
        "optimizer = torch.optim.SGD(model.parameters(), lr=0.01)\n",
        "\n",
        "# Функция ошибки - MSE\n",
        "optim_func = nn.MSELoss()\n",
        "\n",
        "# Количество итераций\n",
        "num_iter = 10000\n",
        "\n",
        "for i in range(num_iter):\n",
        "    # Forward pass: предсказание модели по данным x_new\n",
        "    y_pred = model(X_train)\n",
        "\n",
        "    # Вычисление оптимизируемой функции (MSE) по предсказаниям\n",
        "    loss = optim_func(y_pred, y_train)\n",
        "\n",
        "    # Bakcward pass: вычисление градиентов оптимизируемой функции\n",
        "    # по всем параметрам модели\n",
        "    loss.backward()\n",
        "\n",
        "    # Оптимизация: обновление параметров по формулам соответствующего\n",
        "    # метода оптимизации, используются вычисленные ранее градиенты\n",
        "    optimizer.step()\n",
        "\n",
        "    # Зануление градиентов\n",
        "    optimizer.zero_grad()"
      ]
    },
    {
      "cell_type": "markdown",
      "metadata": {
        "id": "9MO9FNUDRFSJ"
      },
      "source": [
        "Визуализируйте предсказания и посчитайте MSE на тестовой части данных."
      ]
    },
    {
      "cell_type": "code",
      "execution_count": 7,
      "metadata": {
        "id": "EfKQSiGVRIxl"
      },
      "outputs": [
        {
          "data": {
            "image/png": "[encoded data removed]",
            "text/plain": [
              "<Figure size 1000x700 with 1 Axes>"
            ]
          },
          "metadata": {},
          "output_type": "display_data"
        }
      ],
      "source": [
        "test_pred = model(X_test)\n",
        "\n",
        "plt.figure(figsize=(10, 7))\n",
        "plt.scatter(X_test.detach().numpy(), y_test.detach().numpy(), alpha=0.75)\n",
        "plt.scatter(X_test.detach().numpy(), test_pred.detach().numpy(), color='orange', linewidth=1)\n",
        "plt.show()"
      ]
    },
    {
      "cell_type": "markdown",
      "metadata": {
        "id": "zPoMmyGgW2Q3"
      },
      "source": [
        "**Вывод:**\n",
        "- Модель хорошо справляется с аппроксимацией графика вблизи нуля, с отдалением от центра качество предсказания падает"
      ]
    },
    {
      "cell_type": "markdown",
      "metadata": {
        "id": "RRw1Pk9ZM4Wn"
      },
      "source": [
        "---\n",
        "### <font color=\"orange\"><i>Сложная часть</i></font>"
      ]
    },
    {
      "cell_type": "markdown",
      "metadata": {
        "id": "EWHsMVWwW2Q2"
      },
      "source": [
        "---\n",
        "### Задача 3.\n",
        "\n",
        "Теперь реализуйте класс нейронной сети из задачи 1 в стиле scikit-learn, например, см. <a href=\"https://miptstats.github.io/courses/ad_fivt/task3.html#Задача-4.\" target=\"_blank\">шаблон класса задачи 4 из задания 3</a>. Предусмотрите возможность обучения по случайным батчам. При реализации можно использовать только библиотеку `numpy`."
      ]
    },
    {
      "cell_type": "code",
      "execution_count": 10,
      "metadata": {
        "id": "4tXV_LMcW2Q2"
      },
      "outputs": [],
      "source": [
        "# class MyNeuron:\n",
        "#     def __init__(self, input_size):\n",
        "#         self.input_size = input_size\n",
        "#         self.W = np.random.randn(input_size, 1)\n",
        "#         self.b = 0\n",
        "\n",
        "#     def output(self, x):\n",
        "#         self.out = np.dot(self.W.T, x) + self.b\n",
        "#         return self\n",
        "    \n",
        "#     def activate(self):\n",
        "#         self.out = 1 / (1 + np.exp(-self.out))\n",
        "#         return self\n",
        "\n",
        "# class MyLayer:\n",
        "#     def __init__(self, input_size, output_size, activation_demand=1):\n",
        "#         self.input_size = input_size\n",
        "#         self.output_size = output_size\n",
        "        \n",
        "#         self.act = activation_demand\n",
        "#         self.neurons = [MyNeuron(self.input_size) for _ in range(self.output_size)]\n",
        "\n",
        "#     def pass_(self, x):\n",
        "#         for neuron in self.neurons:\n",
        "#             neuron.output(x)\n",
        "#             if self.act == 1:\n",
        "#                 neuron.activate()\n",
        "\n",
        "#         return self\n",
        "        \n",
        "# class MyNeuralNetwork:\n",
        "#     def __init__(self, layers_count=2, input_size=1, layers_size=[2, 1], activation_demands=[1, 0], lr=0.1):\n",
        "#         self.layers_count = layers_count\n",
        "#         self.layers_size = layers_size.insert(0, input_size)\n",
        "\n",
        "#         self.layers = [MyLayer(layers_size[i - 1], layers_size[i], activation_demands[i - 1])\n",
        "#                        for i in range(1, self.layers_count)]\n",
        "        \n",
        "#         self.lr = lr\n",
        "\n",
        "#     def forward(self, x):\n",
        "#         self.layers.insert(0, x)\n",
        "\n",
        "#         for i in range(1, self.layers_count):\n",
        "#             self.layers[i].pass_(self.layers[i - 1].neurons.out)\n",
        "        \n",
        "#         return self\n",
        "\n",
        "#     def backward(self, x, y, y_pred):\n",
        "#         for i in range(self.layers_count - 1, -1):\n",
        "            \n",
        "\n",
        "\n",
        "\n",
        "class NeuralNetwork:\n",
        "    def __init__(self, inpu_size=1, hidden_size=2, output_size=1, lr=0.1):\n",
        "        self.lr = lr\n",
        "\n",
        "        self.W1 = np.random.randn(1, 2)\n",
        "        self.W2 = np.random.randn(2, 1)\n",
        "\n",
        "        self.b1 = np.zeros((1, 2))\n",
        "        self.b2 = np.zeros((1, 1))\n",
        "\n",
        "    def forward(self, x):\n",
        "        self.u = self.sigmoid_(np.dot(x, self.W1) + self.b1)                        \n",
        "        self.y_pred = np.dot(self.u, self.W2) + self.b2                            \n",
        "\n",
        "        return self\n",
        "    \n",
        "    def backward(self, x, y, batch_size):\n",
        "        MSE_y_pred = -2 / batch_size * (y - self.y_pred)       \n",
        "                \n",
        "        y_pred_W2 = self.u                                           \n",
        "        y_pred_b2 = np.ones((batch_size, 1))                \n",
        "        y_pred_u  = self.W2                                     \n",
        "\n",
        "        self.MSE_W2 = np.dot(y_pred_W2.T, MSE_y_pred)                \n",
        "        self.MSE_b2 = np.dot(MSE_y_pred.T, y_pred_b2)            \n",
        "        MSE_u  = np.dot(MSE_y_pred, y_pred_u.T)               \n",
        "\n",
        "        self.MSE_W1 = np.dot(x.T, MSE_u * self.sigmoid_derivative_(self.u))                 \n",
        "        self.MSE_b1 = np.sum(MSE_u * self.sigmoid_derivative_(self.u), axis=0)\n",
        "\n",
        "        return self\n",
        "    \n",
        "    def step(self):\n",
        "        self.W1 -= self.lr * self.MSE_W1\n",
        "        self.b1 -= self.lr * self.MSE_b1\n",
        "        self.W2 -= self.lr * self.MSE_W2\n",
        "        self.b2 -= self.lr * self.MSE_b2\n",
        "\n",
        "    def sigmoid_(self, x):\n",
        "        return 1 / (1 + np.exp(-x))\n",
        "    \n",
        "    def sigmoid_derivative_(self, x):\n",
        "        return x * (1 - x)\n",
        "        \n",
        "    def fit(self, x, y, epochs=100, batch_size=100):\n",
        "        for epoch in range(epochs):\n",
        "            # Создаём батч\n",
        "            shuffle_index = np.random.permutation(len(x))       # Случайная перестановка всех индексов\n",
        "            x_shuffle = x[shuffle_index]                        # Перестановка элементов\n",
        "            y_shuffle = y[shuffle_index]\n",
        "\n",
        "            for i in range(0, len(x), batch_size):\n",
        "                x_batch = x_shuffle[i:i + batch_size]           # Батч\n",
        "                y_batch = y_shuffle[i:i + batch_size]\n",
        "\n",
        "                # Прямое распространение\n",
        "                self.forward(x_batch)\n",
        "\n",
        "                # Обратное распространение\n",
        "                self.backward(x_batch, y_batch, batch_size)\n",
        "\n",
        "                # Шаг\n",
        "                self.step()\n",
        "\n",
        "        return self\n",
        "    \n",
        "    \n",
        "    def predict(self, x):\n",
        "        u = self.sigmoid_(np.dot(x, self.W1) + self.b1)\n",
        "        y_pred = np.dot(u, self.W2) + self.b2\n",
        "\n",
        "        return y_pred"
      ]
    },
    {
      "cell_type": "markdown",
      "metadata": {
        "id": "iLvOp4K8W2Q3"
      },
      "source": [
        "Обучите нейронную сеть на рассмотренных ранее данных, а также простую линейную регрессию. Для линейной регрессии стоит взять реализацию из `sklearn`. Сравните эту нейросеть, линейную регрессию и pytorch-сеть из задачи 2."
      ]
    },
    {
      "cell_type": "code",
      "execution_count": 11,
      "metadata": {
        "id": "Mitew_VaW2Q3"
      },
      "outputs": [
        {
          "data": {
            "text/plain": [
              "<__main__.MyNeuralNetwork at 0x7f51a89b5e40>"
            ]
          },
          "execution_count": 11,
          "metadata": {},
          "output_type": "execute_result"
        }
      ],
      "source": [
        "model = MyNeuralNetwork()\n",
        "\n",
        "model.fit(X_train.detach().numpy(), y_train.detach().numpy(), epochs=1000)"
      ]
    },
    {
      "cell_type": "markdown",
      "metadata": {
        "id": "6NmNpWkPW2Q3"
      },
      "source": [
        "Визуализируйте предсказания данных моделей и посчитайте MSE на тестовой части данных."
      ]
    },
    {
      "cell_type": "code",
      "execution_count": 12,
      "metadata": {
        "id": "r2OEQK6JW2Q3"
      },
      "outputs": [
        {
          "data": {
            "image/png": "[encoded data removed]",
            "text/plain": [
              "<Figure size 1000x700 with 1 Axes>"
            ]
          },
          "metadata": {},
          "output_type": "display_data"
        }
      ],
      "source": [
        "my_test_pred = model.predict(X_test)\n",
        "\n",
        "plt.figure(figsize=(10, 7))\n",
        "plt.scatter(X_test.detach().numpy(), y_test.detach().numpy(), alpha=0.75)\n",
        "plt.scatter(X_test.detach().numpy(), my_test_pred, color='orange', linewidth=1)\n",
        "plt.show()"
      ]
    },
    {
      "cell_type": "markdown",
      "metadata": {
        "id": "j-_6rkdkW2Q3"
      },
      "source": [
        "Повторите вычисления для другой нелинейной функции $y(x)$."
      ]
    },
    {
      "cell_type": "code",
      "execution_count": null,
      "metadata": {
        "id": "1GJuV0dfW2Q3"
      },
      "outputs": [],
      "source": []
    },
    {
      "cell_type": "markdown",
      "metadata": {
        "id": "CtVD-MTtW2Q4"
      },
      "source": [
        "**Вывод:**\n",
        "..."
      ]
    }
  ],
  "metadata": {
    "colab": {
      "provenance": []
    },
    "kernelspec": {
      "display_name": "Python 3",
      "language": "python",
      "name": "python3"
    },
    "language_info": {
      "codemirror_mode": {
        "name": "ipython",
        "version": 3
      },
      "file_extension": ".py",
      "mimetype": "text/x-python",
      "name": "python",
      "nbconvert_exporter": "python",
      "pygments_lexer": "ipython3",
      "version": "3.10.6"
    }
  },
  "nbformat": 4,
  "nbformat_minor": 0
}
